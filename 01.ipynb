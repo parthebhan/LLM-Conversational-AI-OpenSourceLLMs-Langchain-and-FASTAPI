{
 "cells": [
  {
   "cell_type": "code",
   "execution_count": 4,
   "metadata": {},
   "outputs": [],
   "source": [
    "\t\n",
    "Response_body = {\n",
    "                    \"essay\": {\n",
    "                        \"generations\": [\n",
    "                        [\n",
    "                            {\n",
    "                            \"text\": \"A hill, a gentle rise in the earth's embrace, stands as a testament to nature's subtle artistry. Its slopes, adorned with verdant grasses or rugged rocks, invite exploration and offer panoramic vistas. From its summit, the world unfolds, revealing hidden valleys and distant horizons. \\n\\nHills have long captured the human imagination, inspiring tales of adventure and serving as strategic vantage points. They are places of tranquility and contemplation, where the wind whispers secrets and the sun paints the landscape in golden hues. A hill, though small in stature, holds a profound connection to the natural world. \\n\",\n",
    "                            \"generation_info\": 'null',\n",
    "                            \"type\": \"Generation\"\n",
    "                            }\n",
    "                        ]\n",
    "                        ],\n",
    "                        \"llm_output\": 'null',\n",
    "                        \"run\": [\n",
    "                        {\n",
    "                            \"run_id\": \"a75e5a0d-8f1f-4d09-9ac1-3a55bf113a9d\"\n",
    "                        }\n",
    "                        ]\n",
    "                    }\n",
    "                    }"
   ]
  },
  {
   "cell_type": "code",
   "execution_count": 6,
   "metadata": {},
   "outputs": [
    {
     "name": "stdout",
     "output_type": "stream",
     "text": [
      "A hill, a gentle rise in the earth's embrace, stands as a testament to nature's subtle artistry. Its slopes, adorned with verdant grasses or rugged rocks, invite exploration and offer panoramic vistas. From its summit, the world unfolds, revealing hidden valleys and distant horizons. \n",
      "\n",
      "Hills have long captured the human imagination, inspiring tales of adventure and serving as strategic vantage points. They are places of tranquility and contemplation, where the wind whispers secrets and the sun paints the landscape in golden hues. A hill, though small in stature, holds a profound connection to the natural world. \n",
      "\n"
     ]
    }
   ],
   "source": [
    "# Extracting and printing the essay text\n",
    "essay_text = Response_body['essay']['generations'][0][0]['text']\n",
    "print(essay_text)"
   ]
  }
 ],
 "metadata": {
  "kernelspec": {
   "display_name": "Python 3",
   "language": "python",
   "name": "python3"
  },
  "language_info": {
   "codemirror_mode": {
    "name": "ipython",
    "version": 3
   },
   "file_extension": ".py",
   "mimetype": "text/x-python",
   "name": "python",
   "nbconvert_exporter": "python",
   "pygments_lexer": "ipython3",
   "version": "3.11.0"
  }
 },
 "nbformat": 4,
 "nbformat_minor": 2
}
